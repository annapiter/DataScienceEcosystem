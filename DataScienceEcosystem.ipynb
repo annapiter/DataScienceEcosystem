{
 "cells": [
  {
   "cell_type": "markdown",
   "id": "a544cb41-f6e6-4806-901e-bf5f6ce5e4bd",
   "metadata": {},
   "source": [
    "# Data Science Tools and Ecosystem"
   ]
  },
  {
   "cell_type": "markdown",
   "id": "f205806b-aafc-4250-a23d-2e2e18bf8d05",
   "metadata": {},
   "source": [
    "In this notebook, Data Science Tools and Ecosystem are summatized."
   ]
  },
  {
   "cell_type": "markdown",
   "id": "8b9fea20-8484-469f-9c56-55440eb3b616",
   "metadata": {},
   "source": [
    "**Objectives:**\n",
    "- List popular languages for Data Science\n",
    "- List commonly used libraries fot Data Science\n",
    "- Data Science Tools\n",
    "- Few examples of evaluating arithmetic expressions in Python"
   ]
  },
  {
   "cell_type": "markdown",
   "id": "ecd52737-328e-4279-96d0-c64909fff6b0",
   "metadata": {},
   "source": [
    "Some of popular languages that Data Scientists use are:\n",
    "1. Python\n",
    "2. R\n",
    "3. SQL"
   ]
  },
  {
   "cell_type": "markdown",
   "id": "80580823-116a-4889-881a-fcec29088c49",
   "metadata": {},
   "source": [
    "Some of the commonly used libraries used by Data Scientists include:\n",
    "1. Python Labraries (Pandas, NumPy, Matplotlib, Seaborn, Scikit-learn, Keras, TensorFlow, PyTourch\n",
    "2. Apache Spark (Vegas, Big DL)\n",
    "3. R Libraries (ggplot2, plotly)"
   ]
  },
  {
   "cell_type": "markdown",
   "id": "8ef712a2-e47c-415c-843f-f725251d192b",
   "metadata": {},
   "source": [
    "| Data Science Tools|\n",
    "| ------------------|\n",
    "| Jupyter Notebooks and JupyterLab|\n",
    "| R Studio |\n",
    "| GitHub |\n",
    "\n"
   ]
  },
  {
   "cell_type": "markdown",
   "id": "23c91241-1fb6-45b5-845d-f85b7107d9c8",
   "metadata": {},
   "source": [
    "### Below are a few examples of evaluating arithmetic expressions in Python"
   ]
  },
  {
   "cell_type": "code",
   "execution_count": 11,
   "id": "3070799f-ad58-44fc-9793-06300f8302db",
   "metadata": {},
   "outputs": [
    {
     "data": {
      "text/plain": [
       "17"
      ]
     },
     "execution_count": 11,
     "metadata": {},
     "output_type": "execute_result"
    }
   ],
   "source": [
    "# This is a simple arithmetic expression to multiply then add integers\n",
    "( 3 * 4 ) + 5"
   ]
  },
  {
   "cell_type": "code",
   "execution_count": 13,
   "id": "56ef8d20-8d43-4649-b784-2b7af97e9e40",
   "metadata": {},
   "outputs": [
    {
     "data": {
      "text/plain": [
       "3.3333333333333335"
      ]
     },
     "execution_count": 13,
     "metadata": {},
     "output_type": "execute_result"
    }
   ],
   "source": [
    "# This will convert 200 minutes to hours by dividing by 60\n",
    "200 / 60"
   ]
  },
  {
   "cell_type": "markdown",
   "id": "9f293150-29f2-41c4-bc68-b9d9691d6477",
   "metadata": {},
   "source": [
    "## Author\n",
    "Anna Piter"
   ]
  },
  {
   "cell_type": "code",
   "execution_count": null,
   "id": "a046368e-1f15-4f9f-87ea-bc06c5307e74",
   "metadata": {},
   "outputs": [],
   "source": []
  }
 ],
 "metadata": {
  "kernelspec": {
   "display_name": "Python [conda env:base] *",
   "language": "python",
   "name": "conda-base-py"
  },
  "language_info": {
   "codemirror_mode": {
    "name": "ipython",
    "version": 3
   },
   "file_extension": ".py",
   "mimetype": "text/x-python",
   "name": "python",
   "nbconvert_exporter": "python",
   "pygments_lexer": "ipython3",
   "version": "3.12.7"
  }
 },
 "nbformat": 4,
 "nbformat_minor": 5
}
